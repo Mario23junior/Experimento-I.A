{
  "nbformat": 4,
  "nbformat_minor": 0,
  "metadata": {
    "colab": {
      "provenance": [],
      "collapsed_sections": [
        "-vHWbEb_GSYR",
        "Mdygl7x2UPNB",
        "xV4SWLLuibHD",
        "CtdWmjEVm_fm",
        "kXbdi3dYztnP",
        "Jd8TS7Xf11jD",
        "pEhEL4HU2I2L",
        "HZqmKXe99HZn",
        "AxxvN5keD613",
        "1weLINVdJS84",
        "Ohl1aCxaRccs",
        "k1frkEm-RlUQ",
        "Cajy0zIzbzv6"
      ]
    },
    "kernelspec": {
      "name": "python3",
      "display_name": "Python 3"
    },
    "language_info": {
      "name": "python"
    }
  },
  "cells": [
    {
      "cell_type": "markdown",
      "source": [
        "# Objetivo a ser alcançado "
      ],
      "metadata": {
        "id": "GGz5fBLfRoJB"
      }
    },
    {
      "cell_type": "markdown",
      "source": [
        "###O objetivos são métricas de análise baseadas nas conclusões de treinos e nas métricas obtidas com o objetivo de avaliar seus resultados finais, e tomar decições com base nos valores finais a pos o pipeline."
      ],
      "metadata": {
        "id": "A5JFl75aRsOx"
      }
    },
    {
      "cell_type": "markdown",
      "source": [
        "#### **Inclução das bibliotecas utilizadas** ####\n",
        "\n",
        "\n",
        "*   Nesta enfase iremos inserir os recursos de utilização.\n",
        "*   Base de carregamentos e perifericos ajusteveis.\n",
        "*   algoritmos em potencial.\n",
        "*   Criação da listagem de todos os pipelines metamorficos do modelo.\n"
      ],
      "metadata": {
        "id": "-vHWbEb_GSYR"
      }
    },
    {
      "cell_type": "markdown",
      "source": [
        "\n",
        "* Carregamento do conjunto do texto principal ele sera nosso principal menu de classes de dados de treinamento"
      ],
      "metadata": {
        "id": "oTo4mbXdHC2b"
      }
    },
    {
      "cell_type": "code",
      "source": [
        "from sklearn.datasets import fetch_20newsgroups "
      ],
      "metadata": {
        "id": "aJ9R0DSRG8Dn"
      },
      "execution_count": null,
      "outputs": []
    },
    {
      "cell_type": "markdown",
      "source": [
        " > Carregamento das bibliotecas de aprendizado de máquina"
      ],
      "metadata": {
        "id": "aKVke2GiOP4F"
      }
    },
    {
      "cell_type": "code",
      "source": [
        "from sklearn.datasets import fetch_20newsgroups  \n",
        "from sklearn.feature_extraction.text import CountVectorizer, TfidfTransformer  \n",
        "from sklearn.naive_bayes import MultinomialNB \n",
        "from sklearn.pipeline import Pipeline  \n",
        "from sklearn.pipeline import Pipeline  \n",
        "from sklearn.linear_model import SGDClassifier  \n",
        "from sklearn.model_selection import GridSearchCV\n",
        "from sklearn.metrics import f1_score, accuracy_score, confusion_matrix, classification_report, ConfusionMatrixDisplay"
      ],
      "metadata": {
        "id": "GP__t4-9OUbK"
      },
      "execution_count": null,
      "outputs": []
    },
    {
      "cell_type": "markdown",
      "source": [
        "\n",
        ">  Carregando bibliotecas de manipulação e análise de dados\n",
        "\n",
        "\n",
        "\n"
      ],
      "metadata": {
        "id": "URTQa-DpO1tu"
      }
    },
    {
      "cell_type": "code",
      "execution_count": null,
      "metadata": {
        "id": "bph7M8aNGFVl"
      },
      "outputs": [],
      "source": [
        "import pandas as pd \n",
        "from nltk.stem.snowball import SnowballStemmer\n",
        "import numpy as np\n",
        "import nltk \n",
        "import matplotlib.pyplot as plt "
      ]
    },
    {
      "cell_type": "markdown",
      "source": [
        "Ignorando warnings de alerta\n",
        "\n",
        "\n",
        "> 1.   [Iremos desativar os avisos, pois iremos nós concentrarmos apenas nós experimentos, leia mais sobre o porquê desta decisão ]( https://docs.python.org/pt-br/dev/library/warnings.html )\n",
        "2. [O que e isso ?](https://www.google.com/search?q=para+que+serve+warning&sxsrf=APwXEdcPhCZybk1nYjLvp4dydkfuaMNRqQ%3A1682036584144&ei=aNdBZK7CCLfy5OUPwbK6sA8&oq=o+que+significa+warnings&gs_lcp=Cgxnd3Mtd2l6LXNlcnAQARgAMgoIABBHENYEELADMgoIABBHENYEELADMgoIABBHENYEELADMgoIABBHENYEELADMgoIABBHENYEELADMgoIABBHENYEELADMgoIABBHENYEELADMgoIABBHENYEELADSgQIQRgAUABYAGDCDmgDcAB4AIABAIgBAJIBAJgBAMgBCMABAQ&sclient=gws-wiz-serp)\n"
      ],
      "metadata": {
        "id": "jJfAOa9SLTWR"
      }
    },
    {
      "cell_type": "code",
      "source": [
        "import warnings\n",
        "warnings.simplefilter('ignore')"
      ],
      "metadata": {
        "id": "r2WYBWfPLY8R"
      },
      "execution_count": null,
      "outputs": []
    },
    {
      "cell_type": "markdown",
      "source": [
        "#### **Carregamento da base de dados principal**####\n",
        "> Transportar do conjunto de treino de classes"
      ],
      "metadata": {
        "id": "Mdygl7x2UPNB"
      }
    },
    {
      "cell_type": "code",
      "source": [
        "newsgroups = fetch_20newsgroups(subset='train') "
      ],
      "metadata": {
        "id": "y3SbPR8-VBjE"
      },
      "execution_count": null,
      "outputs": []
    },
    {
      "cell_type": "markdown",
      "source": [
        "Exibindo conjunto de dados de texto recem obtidas\n",
        "\n"
      ],
      "metadata": {
        "id": "V8Y8pc7WaP5V"
      }
    },
    {
      "cell_type": "code",
      "source": [
        "list(newsgroups.target_names)"
      ],
      "metadata": {
        "colab": {
          "base_uri": "https://localhost:8080/"
        },
        "id": "KY29dbvmaWK4",
        "outputId": "1d6e4d1c-33fa-4b20-dd1e-31087edeb849"
      },
      "execution_count": null,
      "outputs": [
        {
          "output_type": "execute_result",
          "data": {
            "text/plain": [
              "['alt.atheism',\n",
              " 'comp.graphics',\n",
              " 'comp.os.ms-windows.misc',\n",
              " 'comp.sys.ibm.pc.hardware',\n",
              " 'comp.sys.mac.hardware',\n",
              " 'comp.windows.x',\n",
              " 'misc.forsale',\n",
              " 'rec.autos',\n",
              " 'rec.motorcycles',\n",
              " 'rec.sport.baseball',\n",
              " 'rec.sport.hockey',\n",
              " 'sci.crypt',\n",
              " 'sci.electronics',\n",
              " 'sci.med',\n",
              " 'sci.space',\n",
              " 'soc.religion.christian',\n",
              " 'talk.politics.guns',\n",
              " 'talk.politics.mideast',\n",
              " 'talk.politics.misc',\n",
              " 'talk.religion.misc']"
            ]
          },
          "metadata": {},
          "execution_count": 211
        }
      ]
    },
    {
      "cell_type": "markdown",
      "source": [
        "**Seleção do conjunto de textos que iremos utilizar.**\n",
        "> A nossa base de classes está bastante ondulante, pois nosso objetivo e medir a relevância de citação desses assuntos em particular, a escolha sera tendenciosa a nosso resultado.\n",
        "\n"
      ],
      "metadata": {
        "id": "zZf2BR2tcFLX"
      }
    },
    {
      "cell_type": "code",
      "source": [
        "categories = ['sci.space','sci.electronics','alt.atheism','sci.med',\n",
        "              'rec.autos','comp.graphics','comp.os.ms-windows.misc',\n",
        "              'comp.sys.ibm.pc.hardware','sci.crypt','comp.sys.mac.hardware']\n",
        "df_train = fetch_20newsgroups(subset='train', categories=categories, shuffle=True, random_state=42)\n",
        "df_test = fetch_20newsgroups(subset='test', categories=categories, shuffle=True)"
      ],
      "metadata": {
        "id": "DB-S9qw8cDmV"
      },
      "execution_count": null,
      "outputs": []
    },
    {
      "cell_type": "markdown",
      "source": [
        "######Listagem do conjunto de classes pre-selecionadas para estudo######"
      ],
      "metadata": {
        "id": "WlFPp1Brhc-4"
      }
    },
    {
      "cell_type": "code",
      "source": [
        "df_train.target_names"
      ],
      "metadata": {
        "colab": {
          "base_uri": "https://localhost:8080/"
        },
        "id": "5e7HRqgUgiLu",
        "outputId": "57399e42-9b26-4030-f3d0-2a373e7f48f4"
      },
      "execution_count": null,
      "outputs": [
        {
          "output_type": "execute_result",
          "data": {
            "text/plain": [
              "['alt.atheism',\n",
              " 'comp.graphics',\n",
              " 'comp.os.ms-windows.misc',\n",
              " 'comp.sys.ibm.pc.hardware',\n",
              " 'comp.sys.mac.hardware',\n",
              " 'rec.autos',\n",
              " 'sci.crypt',\n",
              " 'sci.electronics',\n",
              " 'sci.med',\n",
              " 'sci.space']"
            ]
          },
          "metadata": {},
          "execution_count": 213
        }
      ]
    },
    {
      "cell_type": "markdown",
      "source": [
        "###Feature Engineering##"
      ],
      "metadata": {
        "id": "xV4SWLLuibHD"
      }
    },
    {
      "cell_type": "markdown",
      "source": [
        " > Obtendo algoritmo de conversão, este algoritmo e de suma importância é um método para converter texto em dados numéricos."
      ],
      "metadata": {
        "id": "ktJZi9PYjU6C"
      }
    },
    {
      "cell_type": "code",
      "source": [
        "count_vect = CountVectorizer()"
      ],
      "metadata": {
        "id": "s162w13mjRtM"
      },
      "execution_count": null,
      "outputs": []
    },
    {
      "cell_type": "markdown",
      "source": [
        "\n",
        "Iremos definir o[ TF-IDF](https://pt.wikipedia.org/wiki/Tf%E2%80%93idf#:~:text=O%20valor%20tf%E2%80%93idf%20(abrevia%C3%A7%C3%A3o,ou%20em%20um%20corpus%20lingu%C3%ADstico.) é uma medida estatística que tem o intuito de indicar a importância de uma palavra de um documento em relação a uma coleção de documentos ou em um corpus linguístico"
      ],
      "metadata": {
        "id": "VFMdI2LclVGd"
      }
    },
    {
      "cell_type": "code",
      "source": [
        "X_train_counts = count_vect.fit_transform(df_train.data)\n",
        "X_train_counts.shape"
      ],
      "metadata": {
        "colab": {
          "base_uri": "https://localhost:8080/"
        },
        "id": "lpa0u9pciea0",
        "outputId": "a03e0373-ee05-4d8b-8f71-26e29e9c5db3"
      },
      "execution_count": null,
      "outputs": [
        {
          "output_type": "execute_result",
          "data": {
            "text/plain": [
              "(5790, 92542)"
            ]
          },
          "metadata": {},
          "execution_count": 215
        }
      ]
    },
    {
      "cell_type": "markdown",
      "source": [
        "##Estudo de caso **1**"
      ],
      "metadata": {
        "id": "TyZtA4aNm_oS"
      }
    },
    {
      "cell_type": "markdown",
      "source": [
        "> #### **Treinamento do modelo - 1**"
      ],
      "metadata": {
        "id": "CtdWmjEVm_fm"
      }
    },
    {
      "cell_type": "markdown",
      "source": [
        "Iremos definir nosso pipeline seu comportamento sera reunir as várias etapas do processo, que podem ser validadas de forma cruzada ao definir parâmetros diferentes.\n"
      ],
      "metadata": {
        "id": "HZlVDnR4yYoP"
      }
    },
    {
      "cell_type": "code",
      "source": [
        "clf_2 = Pipeline([\n",
        "    ('vect', CountVectorizer()), \n",
        "    ('tfidf', TfidfTransformer()),  \n",
        "    ('clf-svm', SGDClassifier(loss='hinge', penalty='l2', alpha=1e-3, max_iter=25, random_state=42))]) # Passo 3, aplicar o algoritmo Naive Bayes"
      ],
      "metadata": {
        "id": "TWI9o-bfnK8w"
      },
      "execution_count": null,
      "outputs": []
    },
    {
      "cell_type": "markdown",
      "source": [
        "> Treinando o modelo e realizando predições dos dados"
      ],
      "metadata": {
        "id": "knx84bPPyxXq"
      }
    },
    {
      "cell_type": "code",
      "source": [
        "svm_trained = clf_2.fit(df_train.data, df_train.target)  \n",
        "pred = svm_trained.predict(df_test.data)\n",
        "acc = np.mean(pred == df_test.target)"
      ],
      "metadata": {
        "id": "dFKdTTdtsDVo"
      },
      "execution_count": null,
      "outputs": []
    },
    {
      "cell_type": "markdown",
      "source": [
        "###Emitindo status da acurácia"
      ],
      "metadata": {
        "id": "kXbdi3dYztnP"
      }
    },
    {
      "cell_type": "code",
      "source": [
        "print('>>>> Acurácia: ', acc)"
      ],
      "metadata": {
        "colab": {
          "base_uri": "https://localhost:8080/"
        },
        "id": "yTdNRUtKzrZV",
        "outputId": "e8ad1439-d72c-4608-9fac-f274aecd9d1e"
      },
      "execution_count": null,
      "outputs": [
        {
          "output_type": "stream",
          "name": "stdout",
          "text": [
            ">>>> Acurácia:  0.8562532433834976\n"
          ]
        }
      ]
    },
    {
      "cell_type": "markdown",
      "source": [
        "### **Tuning de parametros**\n",
        "\n",
        "#####Modelo utilizado : **Stochastic Gradient Descent** em conjunto com **GridSearchCV**"
      ],
      "metadata": {
        "id": "zBlUEJX3sUuP"
      }
    },
    {
      "cell_type": "code",
      "source": [
        "parameters_svm = {'vect__ngram_range': [(1, 1), (1, 2)],\n",
        "                  'tfidf__use_idf': (True, False),'clf-svm__alpha': (1e-2, 1e-3)}\n",
        "            \n",
        "gs_clf_svm = GridSearchCV(svm_trained, parameters_svm, n_jobs=-1)\n",
        "gs_clf_svm = gs_clf_svm.fit(df_train.data, df_train.target)"
      ],
      "metadata": {
        "id": "QSnMa2LUseXN"
      },
      "execution_count": null,
      "outputs": []
    },
    {
      "cell_type": "markdown",
      "source": [
        "#### Capturando os melhores parametros"
      ],
      "metadata": {
        "id": "Jd8TS7Xf11jD"
      }
    },
    {
      "cell_type": "code",
      "source": [
        "print(gs_clf_svm.best_score_)\n",
        "gs_clf_svm.best_params_"
      ],
      "metadata": {
        "colab": {
          "base_uri": "https://localhost:8080/"
        },
        "id": "hDFLXWPkshpY",
        "outputId": "17921822-62ab-4b39-c719-61f4b5f07431"
      },
      "execution_count": null,
      "outputs": [
        {
          "output_type": "stream",
          "name": "stdout",
          "text": [
            "0.9148531951640759\n"
          ]
        },
        {
          "output_type": "execute_result",
          "data": {
            "text/plain": [
              "{'clf-svm__alpha': 0.001, 'tfidf__use_idf': True, 'vect__ngram_range': (1, 2)}"
            ]
          },
          "metadata": {},
          "execution_count": 220
        }
      ]
    },
    {
      "cell_type": "markdown",
      "source": [
        "#### Realizando a predição dos dados de teste"
      ],
      "metadata": {
        "id": "pEhEL4HU2I2L"
      }
    },
    {
      "cell_type": "code",
      "source": [
        "pred = gs_clf_svm.predict(df_test.data)\n",
        "acc = np.mean(pred == df_test.target)\n",
        "print('>>>> Acurácia: ', acc)"
      ],
      "metadata": {
        "colab": {
          "base_uri": "https://localhost:8080/"
        },
        "id": "sRtvpkJQsjvH",
        "outputId": "e7070a07-fd85-4465-cc8c-16a3a02f1fc5"
      },
      "execution_count": null,
      "outputs": [
        {
          "output_type": "stream",
          "name": "stdout",
          "text": [
            ">>>> Acurácia:  0.8489880643487286\n"
          ]
        }
      ]
    },
    {
      "cell_type": "markdown",
      "source": [
        "##### A recall é a razão em que é o número de verdadeiros positivos e o número de falsos negativos, tendo isso como parâmetro principal, vimos que a relação entre as demais classes apesar de ondulante não está tão distante a, sim, podemos concluir uma assertividade moderado, pois  seus números não estão destoantemente distantes podemos nós assegurar pelos menos 80%"
      ],
      "metadata": {
        "id": "WRRmUlw52rng"
      }
    },
    {
      "cell_type": "code",
      "source": [
        "creport = classification_report(df_test.target, pred, target_names=df_test.target_names)\n",
        "print(creport)"
      ],
      "metadata": {
        "colab": {
          "base_uri": "https://localhost:8080/"
        },
        "id": "Wh3gWmHgsmr5",
        "outputId": "20f9e78e-385d-4a06-e2b5-a974d0d3111c"
      },
      "execution_count": null,
      "outputs": [
        {
          "output_type": "stream",
          "name": "stdout",
          "text": [
            "                          precision    recall  f1-score   support\n",
            "\n",
            "             alt.atheism       0.82      0.94      0.88       319\n",
            "           comp.graphics       0.86      0.80      0.83       389\n",
            " comp.os.ms-windows.misc       0.82      0.81      0.81       394\n",
            "comp.sys.ibm.pc.hardware       0.79      0.71      0.75       392\n",
            "   comp.sys.mac.hardware       0.85      0.85      0.85       385\n",
            "               rec.autos       0.91      0.96      0.94       396\n",
            "               sci.crypt       0.82      0.96      0.89       396\n",
            "         sci.electronics       0.86      0.66      0.75       393\n",
            "                 sci.med       0.90      0.85      0.88       396\n",
            "               sci.space       0.85      0.96      0.90       394\n",
            "\n",
            "                accuracy                           0.85      3854\n",
            "               macro avg       0.85      0.85      0.85      3854\n",
            "            weighted avg       0.85      0.85      0.85      3854\n",
            "\n"
          ]
        }
      ]
    },
    {
      "cell_type": "markdown",
      "source": [],
      "metadata": {
        "id": "rccGt8Zisc5N"
      }
    },
    {
      "cell_type": "markdown",
      "source": [
        "####Iremos dividir as nossas N abordagens para diferenças nossos diferentes resultados de análise."
      ],
      "metadata": {
        "id": "T3AEEEo7-7W6"
      }
    },
    {
      "cell_type": "markdown",
      "source": [
        "####**A bordagem 1**"
      ],
      "metadata": {
        "id": "HZqmKXe99HZn"
      }
    },
    {
      "cell_type": "markdown",
      "source": [
        "##### Incluido parametros de determinância "
      ],
      "metadata": {
        "id": "AxxvN5keD613"
      }
    },
    {
      "cell_type": "markdown",
      "source": [
        "*   Incluido algoritmo naive bayes\n",
        "*   Filtrando nossas operções\n"
      ],
      "metadata": {
        "id": "mkmja3OUEnu1"
      }
    },
    {
      "cell_type": "code",
      "source": [
        "svm_stp_clf = Pipeline([\n",
        "    ('vect', CountVectorizer(stop_words='english')),  \n",
        "    ('tfidf', TfidfTransformer()),  \n",
        "    ('clf-svm', SGDClassifier(loss='hinge', penalty='l2', alpha=1e-3, max_iter=25, random_state=42))]) "
      ],
      "metadata": {
        "id": "JR8cjoBr9Vf9"
      },
      "execution_count": null,
      "outputs": []
    },
    {
      "cell_type": "markdown",
      "source": [
        "> Realizando o treinamento dos dados e a predição do conjunto de teste"
      ],
      "metadata": {
        "id": "q8dWnOXlFnHM"
      }
    },
    {
      "cell_type": "code",
      "source": [
        "svm_stp_trained = svm_stp_clf.fit(df_train.data, df_train.target)\n",
        "pred = svm_stp_trained.predict(df_test.data) "
      ],
      "metadata": {
        "id": "OuNnNQBb_97D"
      },
      "execution_count": null,
      "outputs": []
    },
    {
      "cell_type": "code",
      "source": [
        "acc = np.mean(pred == df_test.target)\n",
        "print('>>>> Acurácia: ', acc)"
      ],
      "metadata": {
        "colab": {
          "base_uri": "https://localhost:8080/"
        },
        "id": "zIilO_xuAEXd",
        "outputId": "f752b8f4-bce5-40a2-aad9-587c64178ca7"
      },
      "execution_count": null,
      "outputs": [
        {
          "output_type": "stream",
          "name": "stdout",
          "text": [
            ">>>> Acurácia:  0.8601453035806954\n"
          ]
        }
      ]
    },
    {
      "cell_type": "markdown",
      "source": [
        "Obtendo status de assertividade"
      ],
      "metadata": {
        "id": "cxxUzSFvF3GT"
      }
    },
    {
      "cell_type": "code",
      "source": [
        "svm_stp_tun = GridSearchCV(svm_stp_trained, parameters_svm, n_jobs=-1)\n",
        "svm_stp_tun = svm_stp_tun.fit(df_train.data, df_train.target)\n",
        "print(svm_stp_tun.best_score_)\n",
        "svm_stp_tun.best_params_"
      ],
      "metadata": {
        "colab": {
          "base_uri": "https://localhost:8080/"
        },
        "id": "ZRyJeDEvAJXM",
        "outputId": "6f725af3-2aef-4a8d-d147-a62fc17b60de"
      },
      "execution_count": null,
      "outputs": [
        {
          "output_type": "stream",
          "name": "stdout",
          "text": [
            "0.9162348877374784\n"
          ]
        },
        {
          "output_type": "execute_result",
          "data": {
            "text/plain": [
              "{'clf-svm__alpha': 0.001, 'tfidf__use_idf': True, 'vect__ngram_range': (1, 2)}"
            ]
          },
          "metadata": {},
          "execution_count": 226
        }
      ]
    },
    {
      "cell_type": "markdown",
      "source": [
        "> Obtendo classificação de assertividade "
      ],
      "metadata": {
        "id": "BB9C7g5SAeNY"
      }
    },
    {
      "cell_type": "code",
      "source": [
        "pred = svm_stp_tun.predict(df_test.data)\n",
        "acc = np.mean(pred == df_test.target)\n",
        "print('>>>> Acurácia: ', acc)"
      ],
      "metadata": {
        "colab": {
          "base_uri": "https://localhost:8080/"
        },
        "id": "HzqoVp0nAfXp",
        "outputId": "30d0411d-3763-427f-c64a-312bab038dd4"
      },
      "execution_count": null,
      "outputs": [
        {
          "output_type": "stream",
          "name": "stdout",
          "text": [
            ">>>> Acurácia:  0.8523611831862999\n"
          ]
        }
      ]
    },
    {
      "cell_type": "markdown",
      "source": [
        "> ##### Nesta situação nossos conjuntos de retorno estão ainda mais centrados, iremos nós concentrar nos valores próximos, chegamos a conclusão que há um certo volume em grandezas,  iremos continuar a definir nossas abordagens."
      ],
      "metadata": {
        "id": "Pirlnl0JAi2W"
      }
    },
    {
      "cell_type": "code",
      "source": [
        "creport = classification_report(df_test.target, pred, target_names=df_test.target_names)\n",
        "print(creport)"
      ],
      "metadata": {
        "colab": {
          "base_uri": "https://localhost:8080/"
        },
        "id": "rEdmBPBeAkRI",
        "outputId": "29445357-ebd7-400a-bf0a-28b07f0fb806"
      },
      "execution_count": null,
      "outputs": [
        {
          "output_type": "stream",
          "name": "stdout",
          "text": [
            "                          precision    recall  f1-score   support\n",
            "\n",
            "             alt.atheism       0.84      0.94      0.89       319\n",
            "           comp.graphics       0.85      0.80      0.82       389\n",
            " comp.os.ms-windows.misc       0.82      0.83      0.83       394\n",
            "comp.sys.ibm.pc.hardware       0.77      0.71      0.74       392\n",
            "   comp.sys.mac.hardware       0.86      0.86      0.86       385\n",
            "               rec.autos       0.89      0.95      0.92       396\n",
            "               sci.crypt       0.84      0.96      0.90       396\n",
            "         sci.electronics       0.85      0.68      0.76       393\n",
            "                 sci.med       0.91      0.86      0.88       396\n",
            "               sci.space       0.87      0.95      0.91       394\n",
            "\n",
            "                accuracy                           0.85      3854\n",
            "               macro avg       0.85      0.85      0.85      3854\n",
            "            weighted avg       0.85      0.85      0.85      3854\n",
            "\n"
          ]
        }
      ]
    },
    {
      "cell_type": "markdown",
      "source": [],
      "metadata": {
        "id": "Cmh7CTiB-svc"
      }
    },
    {
      "cell_type": "markdown",
      "source": [
        "####**A bordagem 2**"
      ],
      "metadata": {
        "id": "1weLINVdJS84"
      }
    },
    {
      "cell_type": "markdown",
      "source": [
        "> Aplicando filtros de ação e inserindo algoritmos de transformação e acertividade e treinando o modelo"
      ],
      "metadata": {
        "id": "K9_IK3TFK4wj"
      }
    },
    {
      "cell_type": "code",
      "source": [
        "nb_clf_stp = Pipeline([\n",
        "    ('vect', CountVectorizer(stop_words='english')), \n",
        "    ('tfidf', TfidfTransformer()),  \n",
        "    ('clf', MultinomialNB())])   \n",
        "\n",
        "nb_clf_stp_trained = nb_clf_stp.fit(df_train.data, df_train.target)  "
      ],
      "metadata": {
        "id": "yTocv4L4KVcd"
      },
      "execution_count": null,
      "outputs": []
    },
    {
      "cell_type": "markdown",
      "source": [
        "> Realizando a predição dos dos nossos conjuntos de simulação inseridos.\n"
      ],
      "metadata": {
        "id": "1on5YQN4LYnI"
      }
    },
    {
      "cell_type": "code",
      "source": [
        "pred = nb_clf_stp_trained.predict(df_test.data)\n",
        "acc = np.mean(pred == df_test.target)\n",
        "print('Accuracy = ', acc)\n",
        "\n",
        "creport = classification_report(df_test.target, pred, target_names=df_test.target_names)\n",
        "print(creport)"
      ],
      "metadata": {
        "colab": {
          "base_uri": "https://localhost:8080/"
        },
        "id": "xH6cocXiLeAq",
        "outputId": "662c3872-f561-491d-d7e3-13c965825d9f"
      },
      "execution_count": null,
      "outputs": [
        {
          "output_type": "stream",
          "name": "stdout",
          "text": [
            "Accuracy =  0.8500259470679813\n",
            "                          precision    recall  f1-score   support\n",
            "\n",
            "             alt.atheism       0.97      0.90      0.94       319\n",
            "           comp.graphics       0.84      0.78      0.81       389\n",
            " comp.os.ms-windows.misc       0.85      0.73      0.78       394\n",
            "comp.sys.ibm.pc.hardware       0.72      0.82      0.77       392\n",
            "   comp.sys.mac.hardware       0.87      0.84      0.86       385\n",
            "               rec.autos       0.92      0.97      0.94       396\n",
            "               sci.crypt       0.76      0.97      0.85       396\n",
            "         sci.electronics       0.84      0.67      0.75       393\n",
            "                 sci.med       0.94      0.87      0.90       396\n",
            "               sci.space       0.86      0.95      0.91       394\n",
            "\n",
            "                accuracy                           0.85      3854\n",
            "               macro avg       0.86      0.85      0.85      3854\n",
            "            weighted avg       0.86      0.85      0.85      3854\n",
            "\n"
          ]
        }
      ]
    },
    {
      "cell_type": "markdown",
      "source": [],
      "metadata": {
        "id": "H6RpX7OoOCpb"
      }
    },
    {
      "cell_type": "markdown",
      "source": [
        "##Estudo de caso **2**"
      ],
      "metadata": {
        "id": "nFIVb3aXOHAr"
      }
    },
    {
      "cell_type": "markdown",
      "source": [
        "#### **Feature Enginnering 2** "
      ],
      "metadata": {
        "id": "Ohl1aCxaRccs"
      }
    },
    {
      "cell_type": "markdown",
      "source": [
        "######Transformando o conjunto de texto em uma matriz de numérica de tokens, lembrando que este passo e de suma importância, pois e obrigação nossa deixar os dados o mais sutil possível.\n",
        " "
      ],
      "metadata": {
        "id": "k1frkEm-RlUQ"
      }
    },
    {
      "cell_type": "code",
      "source": [
        "tfidf_transformer = TfidfTransformer() \n",
        "X_train_tfidf = tfidf_transformer.fit_transform(X_train_counts)"
      ],
      "metadata": {
        "id": "RE4O9LTvRXjx"
      },
      "execution_count": null,
      "outputs": []
    },
    {
      "cell_type": "markdown",
      "source": [
        "> #### **Treinamento do modelo - 2**"
      ],
      "metadata": {
        "id": "dMYKwbzHQrN0"
      }
    },
    {
      "cell_type": "markdown",
      "source": [
        " ##### Obtendo algoritmo naive bayes para utilização e treinamento dos conjuntos."
      ],
      "metadata": {
        "id": "4az_9GvvSeFl"
      }
    },
    {
      "cell_type": "code",
      "source": [
        "clf = MultinomialNB()\n",
        "clf.fit(X_train_tfidf, df_train.target)"
      ],
      "metadata": {
        "colab": {
          "base_uri": "https://localhost:8080/",
          "height": 75
        },
        "id": "FZEakev9OLiK",
        "outputId": "c5049465-fb25-41dc-d337-5f5a70edf8dc"
      },
      "execution_count": null,
      "outputs": [
        {
          "output_type": "execute_result",
          "data": {
            "text/plain": [
              "MultinomialNB()"
            ],
            "text/html": [
              "<style>#sk-container-id-5 {color: black;background-color: white;}#sk-container-id-5 pre{padding: 0;}#sk-container-id-5 div.sk-toggleable {background-color: white;}#sk-container-id-5 label.sk-toggleable__label {cursor: pointer;display: block;width: 100%;margin-bottom: 0;padding: 0.3em;box-sizing: border-box;text-align: center;}#sk-container-id-5 label.sk-toggleable__label-arrow:before {content: \"▸\";float: left;margin-right: 0.25em;color: #696969;}#sk-container-id-5 label.sk-toggleable__label-arrow:hover:before {color: black;}#sk-container-id-5 div.sk-estimator:hover label.sk-toggleable__label-arrow:before {color: black;}#sk-container-id-5 div.sk-toggleable__content {max-height: 0;max-width: 0;overflow: hidden;text-align: left;background-color: #f0f8ff;}#sk-container-id-5 div.sk-toggleable__content pre {margin: 0.2em;color: black;border-radius: 0.25em;background-color: #f0f8ff;}#sk-container-id-5 input.sk-toggleable__control:checked~div.sk-toggleable__content {max-height: 200px;max-width: 100%;overflow: auto;}#sk-container-id-5 input.sk-toggleable__control:checked~label.sk-toggleable__label-arrow:before {content: \"▾\";}#sk-container-id-5 div.sk-estimator input.sk-toggleable__control:checked~label.sk-toggleable__label {background-color: #d4ebff;}#sk-container-id-5 div.sk-label input.sk-toggleable__control:checked~label.sk-toggleable__label {background-color: #d4ebff;}#sk-container-id-5 input.sk-hidden--visually {border: 0;clip: rect(1px 1px 1px 1px);clip: rect(1px, 1px, 1px, 1px);height: 1px;margin: -1px;overflow: hidden;padding: 0;position: absolute;width: 1px;}#sk-container-id-5 div.sk-estimator {font-family: monospace;background-color: #f0f8ff;border: 1px dotted black;border-radius: 0.25em;box-sizing: border-box;margin-bottom: 0.5em;}#sk-container-id-5 div.sk-estimator:hover {background-color: #d4ebff;}#sk-container-id-5 div.sk-parallel-item::after {content: \"\";width: 100%;border-bottom: 1px solid gray;flex-grow: 1;}#sk-container-id-5 div.sk-label:hover label.sk-toggleable__label {background-color: #d4ebff;}#sk-container-id-5 div.sk-serial::before {content: \"\";position: absolute;border-left: 1px solid gray;box-sizing: border-box;top: 0;bottom: 0;left: 50%;z-index: 0;}#sk-container-id-5 div.sk-serial {display: flex;flex-direction: column;align-items: center;background-color: white;padding-right: 0.2em;padding-left: 0.2em;position: relative;}#sk-container-id-5 div.sk-item {position: relative;z-index: 1;}#sk-container-id-5 div.sk-parallel {display: flex;align-items: stretch;justify-content: center;background-color: white;position: relative;}#sk-container-id-5 div.sk-item::before, #sk-container-id-5 div.sk-parallel-item::before {content: \"\";position: absolute;border-left: 1px solid gray;box-sizing: border-box;top: 0;bottom: 0;left: 50%;z-index: -1;}#sk-container-id-5 div.sk-parallel-item {display: flex;flex-direction: column;z-index: 1;position: relative;background-color: white;}#sk-container-id-5 div.sk-parallel-item:first-child::after {align-self: flex-end;width: 50%;}#sk-container-id-5 div.sk-parallel-item:last-child::after {align-self: flex-start;width: 50%;}#sk-container-id-5 div.sk-parallel-item:only-child::after {width: 0;}#sk-container-id-5 div.sk-dashed-wrapped {border: 1px dashed gray;margin: 0 0.4em 0.5em 0.4em;box-sizing: border-box;padding-bottom: 0.4em;background-color: white;}#sk-container-id-5 div.sk-label label {font-family: monospace;font-weight: bold;display: inline-block;line-height: 1.2em;}#sk-container-id-5 div.sk-label-container {text-align: center;}#sk-container-id-5 div.sk-container {/* jupyter's `normalize.less` sets `[hidden] { display: none; }` but bootstrap.min.css set `[hidden] { display: none !important; }` so we also need the `!important` here to be able to override the default hidden behavior on the sphinx rendered scikit-learn.org. See: https://github.com/scikit-learn/scikit-learn/issues/21755 */display: inline-block !important;position: relative;}#sk-container-id-5 div.sk-text-repr-fallback {display: none;}</style><div id=\"sk-container-id-5\" class=\"sk-top-container\"><div class=\"sk-text-repr-fallback\"><pre>MultinomialNB()</pre><b>In a Jupyter environment, please rerun this cell to show the HTML representation or trust the notebook. <br />On GitHub, the HTML representation is unable to render, please try loading this page with nbviewer.org.</b></div><div class=\"sk-container\" hidden><div class=\"sk-item\"><div class=\"sk-estimator sk-toggleable\"><input class=\"sk-toggleable__control sk-hidden--visually\" id=\"sk-estimator-id-5\" type=\"checkbox\" checked><label for=\"sk-estimator-id-5\" class=\"sk-toggleable__label sk-toggleable__label-arrow\">MultinomialNB</label><div class=\"sk-toggleable__content\"><pre>MultinomialNB()</pre></div></div></div></div></div>"
            ]
          },
          "metadata": {},
          "execution_count": 232
        }
      ]
    },
    {
      "cell_type": "markdown",
      "source": [
        "> Aplicando filtros de tratamento"
      ],
      "metadata": {
        "id": "FdNV3mL7Tk48"
      }
    },
    {
      "cell_type": "code",
      "source": [
        "clf_1 = Pipeline([\n",
        "    ('vect', CountVectorizer()),     \n",
        "    ('tfidf', TfidfTransformer()),  \n",
        "    ('clf', MultinomialNB())])"
      ],
      "metadata": {
        "id": "UGsy3lBvTaO2"
      },
      "execution_count": null,
      "outputs": []
    },
    {
      "cell_type": "markdown",
      "source": [
        "> Treinando dados utilzando o nosso conjunto recem transformado como numerico e realizando a predição dos dado de teste."
      ],
      "metadata": {
        "id": "l5ay-8ghTqBm"
      }
    },
    {
      "cell_type": "code",
      "source": [
        "clf_trained = clf_1.fit(df_train.data, df_train.target) \n",
        "pred = clf_trained.predict(df_test.data)"
      ],
      "metadata": {
        "id": "RwU_cgE5TsKL"
      },
      "execution_count": null,
      "outputs": []
    },
    {
      "cell_type": "code",
      "source": [
        "acc = np.mean(pred == df_test.target)\n",
        "print('>>>> Acurácia: ', acc)"
      ],
      "metadata": {
        "colab": {
          "base_uri": "https://localhost:8080/"
        },
        "id": "RqEaPd09Tv8H",
        "outputId": "aef2a0e2-b2c4-411a-e58b-736bffe4d041"
      },
      "execution_count": null,
      "outputs": [
        {
          "output_type": "stream",
          "name": "stdout",
          "text": [
            ">>>> Acurácia:  0.816554229372081\n"
          ]
        }
      ]
    },
    {
      "cell_type": "markdown",
      "source": [
        "> Posição final de métricas sobre assertividade do modelo treinado."
      ],
      "metadata": {
        "id": "M0L_p34tUHC9"
      }
    },
    {
      "cell_type": "code",
      "source": [
        "creport = classification_report(df_test.target, pred, target_names=df_test.target_names)\n",
        "print(creport)"
      ],
      "metadata": {
        "colab": {
          "base_uri": "https://localhost:8080/"
        },
        "id": "ITdPgyyNUKGz",
        "outputId": "ca4766da-4513-43eb-8810-30e65acb0545"
      },
      "execution_count": null,
      "outputs": [
        {
          "output_type": "stream",
          "name": "stdout",
          "text": [
            "                          precision    recall  f1-score   support\n",
            "\n",
            "             alt.atheism       0.97      0.88      0.92       319\n",
            "           comp.graphics       0.85      0.70      0.77       389\n",
            " comp.os.ms-windows.misc       0.87      0.67      0.76       394\n",
            "comp.sys.ibm.pc.hardware       0.72      0.78      0.75       392\n",
            "   comp.sys.mac.hardware       0.88      0.79      0.83       385\n",
            "               rec.autos       0.88      0.97      0.92       396\n",
            "               sci.crypt       0.58      0.97      0.73       396\n",
            "         sci.electronics       0.85      0.62      0.71       393\n",
            "                 sci.med       0.93      0.87      0.90       396\n",
            "               sci.space       0.87      0.93      0.90       394\n",
            "\n",
            "                accuracy                           0.82      3854\n",
            "               macro avg       0.84      0.82      0.82      3854\n",
            "            weighted avg       0.84      0.82      0.82      3854\n",
            "\n"
          ]
        }
      ]
    },
    {
      "cell_type": "markdown",
      "source": [
        "#### **Tuning de parametros 2**\n"
      ],
      "metadata": {
        "id": "FCfJjUNgVZgP"
      }
    },
    {
      "cell_type": "markdown",
      "source": [
        "> Iremos definir nossos parametros de listagem e constancia de parâmetros a seguir estaremos realizando a busca pelo melhor parametro e treinamento do modelo."
      ],
      "metadata": {
        "id": "DV-j-_ZDV02y"
      }
    },
    {
      "cell_type": "code",
      "source": [
        "parameters = {'vect__ngram_range': [(1, 1), (1, 2)], 'tfidf__use_idf': (True, False), 'clf__alpha': (1e-2, 1e-3)}\n",
        "gs_clf = GridSearchCV(clf_trained, parameters, n_jobs=-1) # Define o grid search para buscar os melhores parametros \n",
        "gs_clf = gs_clf.fit(df_train.data, df_train.target)"
      ],
      "metadata": {
        "id": "dCnVyL87Vp1y"
      },
      "execution_count": null,
      "outputs": []
    },
    {
      "cell_type": "markdown",
      "source": [
        "> Nossa maior grandesa dos valores"
      ],
      "metadata": {
        "id": "LsDK7TB1WaS3"
      }
    },
    {
      "cell_type": "code",
      "source": [
        "print(gs_clf.best_score_)\n",
        "gs_clf.best_params_"
      ],
      "metadata": {
        "colab": {
          "base_uri": "https://localhost:8080/"
        },
        "id": "ok09IBjNWZ-C",
        "outputId": "31f1e22c-e7be-4ff7-ef38-b3cb2a279256"
      },
      "execution_count": null,
      "outputs": [
        {
          "output_type": "stream",
          "name": "stdout",
          "text": [
            "0.9202072538860104\n"
          ]
        },
        {
          "output_type": "execute_result",
          "data": {
            "text/plain": [
              "{'clf__alpha': 0.01, 'tfidf__use_idf': True, 'vect__ngram_range': (1, 1)}"
            ]
          },
          "metadata": {},
          "execution_count": 238
        }
      ]
    },
    {
      "cell_type": "markdown",
      "source": [],
      "metadata": {
        "id": "Ta0WQXMJWuR2"
      }
    },
    {
      "cell_type": "markdown",
      "source": [
        "> Aplicando a predição e obtendo os status de qualidade dessas predições."
      ],
      "metadata": {
        "id": "0asm9qjxWziD"
      }
    },
    {
      "cell_type": "code",
      "source": [
        "pred = gs_clf.predict(df_test.data) \n",
        "acc = np.mean(pred == df_test.target)\n",
        "print('>>>> Acurácia: ', acc)"
      ],
      "metadata": {
        "colab": {
          "base_uri": "https://localhost:8080/"
        },
        "id": "9E36O0LDWpEU",
        "outputId": "ff9e884d-d4d1-4fd8-ec74-877d0c3177b8"
      },
      "execution_count": null,
      "outputs": [
        {
          "output_type": "stream",
          "name": "stdout",
          "text": [
            ">>>> Acurácia:  0.8448365334717177\n"
          ]
        }
      ]
    },
    {
      "cell_type": "markdown",
      "source": [
        "> Nosso diagnóstico final mostra uma boa abordagem dos nossos dados, isso demonstra que nossa visando nosso  número de resultados verdadeiros positivos, está ótimo para nosso objetivo alcançado. "
      ],
      "metadata": {
        "id": "aynkEB7MXEyO"
      }
    },
    {
      "cell_type": "code",
      "source": [
        "creport = classification_report(df_test.target, pred, target_names=df_test.target_names)\n",
        "print(creport)"
      ],
      "metadata": {
        "colab": {
          "base_uri": "https://localhost:8080/"
        },
        "id": "UsAYdeHMXHWT",
        "outputId": "e4ab0d7f-205d-44ea-a7e0-fad526125ace"
      },
      "execution_count": null,
      "outputs": [
        {
          "output_type": "stream",
          "name": "stdout",
          "text": [
            "                          precision    recall  f1-score   support\n",
            "\n",
            "             alt.atheism       0.95      0.94      0.94       319\n",
            "           comp.graphics       0.76      0.81      0.78       389\n",
            " comp.os.ms-windows.misc       0.79      0.65      0.71       394\n",
            "comp.sys.ibm.pc.hardware       0.69      0.76      0.72       392\n",
            "   comp.sys.mac.hardware       0.84      0.84      0.84       385\n",
            "               rec.autos       0.94      0.95      0.94       396\n",
            "               sci.crypt       0.87      0.94      0.90       396\n",
            "         sci.electronics       0.80      0.78      0.79       393\n",
            "                 sci.med       0.91      0.88      0.90       396\n",
            "               sci.space       0.92      0.92      0.92       394\n",
            "\n",
            "                accuracy                           0.84      3854\n",
            "               macro avg       0.85      0.85      0.85      3854\n",
            "            weighted avg       0.85      0.84      0.84      3854\n",
            "\n"
          ]
        }
      ]
    },
    {
      "cell_type": "markdown",
      "source": [
        "####**A bordagem 1**"
      ],
      "metadata": {
        "id": "Cajy0zIzbzv6"
      }
    },
    {
      "cell_type": "markdown",
      "source": [],
      "metadata": {
        "id": "oJhVF50pcw68"
      }
    },
    {
      "cell_type": "markdown",
      "source": [
        "> Carregando processos de dados"
      ],
      "metadata": {
        "id": "omyb7CGCcNSP"
      }
    },
    {
      "cell_type": "code",
      "source": [
        "clf_2 = Pipeline([\n",
        "    ('vect', CountVectorizer()),  \n",
        "    ('tfidf', TfidfTransformer()), \n",
        "    ('clf-svm', SGDClassifier(loss='hinge', penalty='l2', alpha=1e-3, max_iter=25, random_state=42))]) # Passo 3, aplicar o algoritmo Naive Bayes"
      ],
      "metadata": {
        "id": "ujhSKQfrcJQJ"
      },
      "execution_count": null,
      "outputs": []
    },
    {
      "cell_type": "markdown",
      "source": [
        "Realizando o treinamento dos dados visando seus novos parametros e obtendo a predição dos novos conjuntos recem trienados em seguida retornada nosso status de acuracio dos valores."
      ],
      "metadata": {
        "id": "GWNltVOWdOwC"
      }
    },
    {
      "cell_type": "code",
      "source": [
        "svm_trained = clf_2.fit(df_train.data, df_train.target)\n",
        "pred = svm_trained.predict(df_test.data)\n",
        "acc = np.mean(pred == df_test.target)\n",
        "print('>>>> Acurácia: ', acc)"
      ],
      "metadata": {
        "colab": {
          "base_uri": "https://localhost:8080/"
        },
        "id": "RPAlNe54dI3t",
        "outputId": "73d75368-8ee9-4806-e350-d324b4708577"
      },
      "execution_count": null,
      "outputs": [
        {
          "output_type": "stream",
          "name": "stdout",
          "text": [
            ">>>> Acurácia:  0.8562532433834976\n"
          ]
        }
      ]
    },
    {
      "cell_type": "markdown",
      "source": [
        "##### **Tuning de parametros**\n"
      ],
      "metadata": {
        "id": "c8NOEE-Ed4Yp"
      }
    },
    {
      "cell_type": "code",
      "source": [
        "parameters_svm = {'vect__ngram_range': [(1, 1), (1, 2)], 'tfidf__use_idf': (True, False),'clf-svm__alpha': (1e-2, 1e-3)}\n",
        "gs_clf_svm = GridSearchCV(svm_trained, parameters_svm, n_jobs=-1)\n",
        "gs_clf_svm = gs_clf_svm.fit(df_train.data, df_train.target)"
      ],
      "metadata": {
        "id": "3Cs5oaknfCt7"
      },
      "execution_count": null,
      "outputs": []
    },
    {
      "cell_type": "markdown",
      "source": [
        "Realizando a visualização dos melhores parametros da assertividade"
      ],
      "metadata": {
        "id": "QMnhN1L6fMyV"
      }
    },
    {
      "cell_type": "code",
      "source": [
        "print(gs_clf_svm.best_score_)\n",
        "gs_clf_svm.best_params_"
      ],
      "metadata": {
        "colab": {
          "base_uri": "https://localhost:8080/"
        },
        "id": "PTRF7kiKfJqJ",
        "outputId": "d4a8736a-0d93-45f5-c904-08d15053fe6f"
      },
      "execution_count": null,
      "outputs": [
        {
          "output_type": "stream",
          "name": "stdout",
          "text": [
            "0.9148531951640759\n"
          ]
        },
        {
          "output_type": "execute_result",
          "data": {
            "text/plain": [
              "{'clf-svm__alpha': 0.001, 'tfidf__use_idf': True, 'vect__ngram_range': (1, 2)}"
            ]
          },
          "metadata": {},
          "execution_count": 244
        }
      ]
    },
    {
      "cell_type": "markdown",
      "source": [
        " ##### Recorrendo a predição dos dados"
      ],
      "metadata": {
        "id": "Pvx6KZylfaVK"
      }
    },
    {
      "cell_type": "code",
      "source": [
        "pred = gs_clf_svm.predict(df_test.data)\n",
        "acc = np.mean(pred == df_test.target)\n",
        "print('>>>> Acurácia: ', acc)"
      ],
      "metadata": {
        "colab": {
          "base_uri": "https://localhost:8080/"
        },
        "id": "AQC3HZ8GfXRF",
        "outputId": "d0c2fb60-c059-4433-e0be-3f6053c2f20c"
      },
      "execution_count": null,
      "outputs": [
        {
          "output_type": "stream",
          "name": "stdout",
          "text": [
            ">>>> Acurácia:  0.8489880643487286\n"
          ]
        }
      ]
    },
    {
      "cell_type": "markdown",
      "source": [
        "Analise final "
      ],
      "metadata": {
        "id": "WDfWXtWlfkzH"
      }
    },
    {
      "cell_type": "code",
      "source": [
        "creport = classification_report(df_test.target, pred, target_names=df_test.target_names)\n",
        "print(creport)"
      ],
      "metadata": {
        "colab": {
          "base_uri": "https://localhost:8080/"
        },
        "id": "KN59SxgRfjIe",
        "outputId": "26992d5c-2673-4b0c-edbc-8335cf44b4bd"
      },
      "execution_count": null,
      "outputs": [
        {
          "output_type": "stream",
          "name": "stdout",
          "text": [
            "                          precision    recall  f1-score   support\n",
            "\n",
            "             alt.atheism       0.82      0.94      0.88       319\n",
            "           comp.graphics       0.86      0.80      0.83       389\n",
            " comp.os.ms-windows.misc       0.82      0.81      0.81       394\n",
            "comp.sys.ibm.pc.hardware       0.79      0.71      0.75       392\n",
            "   comp.sys.mac.hardware       0.85      0.85      0.85       385\n",
            "               rec.autos       0.91      0.96      0.94       396\n",
            "               sci.crypt       0.82      0.96      0.89       396\n",
            "         sci.electronics       0.86      0.66      0.75       393\n",
            "                 sci.med       0.90      0.85      0.88       396\n",
            "               sci.space       0.85      0.96      0.90       394\n",
            "\n",
            "                accuracy                           0.85      3854\n",
            "               macro avg       0.85      0.85      0.85      3854\n",
            "            weighted avg       0.85      0.85      0.85      3854\n",
            "\n"
          ]
        }
      ]
    },
    {
      "cell_type": "code",
      "source": [],
      "metadata": {
        "id": "s2-ppNE3ftK7"
      },
      "execution_count": null,
      "outputs": []
    },
    {
      "cell_type": "markdown",
      "source": [],
      "metadata": {
        "id": "4ZUIX3Fjf4DR"
      }
    },
    {
      "cell_type": "markdown",
      "source": [
        "####**A bordagem 2**"
      ],
      "metadata": {
        "id": "nFhbd-3bf5gJ"
      }
    },
    {
      "cell_type": "markdown",
      "source": [
        "#### Aplicando parametros de filtros"
      ],
      "metadata": {
        "id": "iibal08cgb8U"
      }
    },
    {
      "cell_type": "code",
      "source": [
        "clf_1 = Pipeline([\n",
        "    ('vect', CountVectorizer()),    \n",
        "    ('tfidf', TfidfTransformer()),   \n",
        "    ('clf', MultinomialNB())])       "
      ],
      "metadata": {
        "id": "1emKJXjWf9C4"
      },
      "execution_count": null,
      "outputs": []
    },
    {
      "cell_type": "markdown",
      "source": [
        "> ##### Realizando a predição dos dados recem avaliados e executando o treinamento do modelo"
      ],
      "metadata": {
        "id": "-pkkt6cOgpx7"
      }
    },
    {
      "cell_type": "code",
      "source": [
        "clf_trained = clf_1.fit(df_train.data, df_train.target) \n",
        "pred = clf_trained.predict(df_test.data) \n",
        "acc = np.mean(pred == df_test.target)\n",
        "print('>>>> Acurácia: ', acc)"
      ],
      "metadata": {
        "colab": {
          "base_uri": "https://localhost:8080/"
        },
        "id": "d3d6XMLCgkW5",
        "outputId": "3eda0fff-5bf0-42ad-83cc-5bd7d501fad3"
      },
      "execution_count": null,
      "outputs": [
        {
          "output_type": "stream",
          "name": "stdout",
          "text": [
            ">>>> Acurácia:  0.816554229372081\n"
          ]
        }
      ]
    },
    {
      "cell_type": "markdown",
      "source": [
        "> Gerando metricas finais para nossa analise de assertividade do modelo"
      ],
      "metadata": {
        "id": "0-LT7wz9hLxb"
      }
    },
    {
      "cell_type": "code",
      "source": [
        "creport = classification_report(df_test.target, pred, target_names=df_test.target_names)\n",
        "print(creport)"
      ],
      "metadata": {
        "colab": {
          "base_uri": "https://localhost:8080/"
        },
        "id": "8W-ozqzBhLLk",
        "outputId": "d513c37d-3f48-4670-8ab9-d02f6a1e5313"
      },
      "execution_count": null,
      "outputs": [
        {
          "output_type": "stream",
          "name": "stdout",
          "text": [
            "                          precision    recall  f1-score   support\n",
            "\n",
            "             alt.atheism       0.97      0.88      0.92       319\n",
            "           comp.graphics       0.85      0.70      0.77       389\n",
            " comp.os.ms-windows.misc       0.87      0.67      0.76       394\n",
            "comp.sys.ibm.pc.hardware       0.72      0.78      0.75       392\n",
            "   comp.sys.mac.hardware       0.88      0.79      0.83       385\n",
            "               rec.autos       0.88      0.97      0.92       396\n",
            "               sci.crypt       0.58      0.97      0.73       396\n",
            "         sci.electronics       0.85      0.62      0.71       393\n",
            "                 sci.med       0.93      0.87      0.90       396\n",
            "               sci.space       0.87      0.93      0.90       394\n",
            "\n",
            "                accuracy                           0.82      3854\n",
            "               macro avg       0.84      0.82      0.82      3854\n",
            "            weighted avg       0.84      0.82      0.82      3854\n",
            "\n"
          ]
        }
      ]
    }
  ]
}